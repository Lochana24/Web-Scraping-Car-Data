{
  "nbformat": 4,
  "nbformat_minor": 0,
  "metadata": {
    "colab": {
      "name": "Noyo_Internship_Assignment_Sahana_Ashok.ipynb",
      "provenance": []
    },
    "kernelspec": {
      "name": "python3",
      "display_name": "Python 3"
    },
    "language_info": {
      "name": "python"
    }
  },
  "cells": [
    {
      "cell_type": "code",
      "metadata": {
        "colab": {
          "base_uri": "https://localhost:8080/"
        },
        "id": "pDciWXYrLD5v",
        "outputId": "fd03f47b-224a-4739-b32d-94147f9af03e"
      },
      "source": [
        "from bs4 import BeautifulSoup\n",
        "from urllib.request import urlopen\n",
        "from requests import get\n",
        "import pandas as pd\n",
        "import numpy as np\n",
        "\n",
        "headers = ({'User-Agent': 'Mozilla/5.0 (Macintosh; Intel Mac OS X 10_11_6) AppleWebKit\\\n",
        "        /537.36 (KHTML, like Gecko) Chrome/56.0.2924.87 Safari/537.36'})\n",
        "\n",
        "base_url =   \"https://www.mahindrafirstchoice.com/used-cars/delhi\"\n",
        "response = get(base_url, headers=headers)\n",
        "html_soup = BeautifulSoup(response.text, 'html.parser')\n",
        "print(response)"
      ],
      "execution_count": 1,
      "outputs": [
        {
          "output_type": "stream",
          "text": [
            "<Response [200]>\n"
          ],
          "name": "stdout"
        }
      ]
    },
    {
      "cell_type": "code",
      "metadata": {
        "id": "PE69LycMbqct"
      },
      "source": [
        "# To store care details each as lists\n",
        "year=[]\n",
        "make=[]\n",
        "model=[]\n",
        "price=[]\n",
        "location=[]\n",
        "kilometer=[]\n",
        "fuel=[]\n",
        "body_type=[]\n",
        "owner=[]"
      ],
      "execution_count": 2,
      "outputs": []
    },
    {
      "cell_type": "code",
      "metadata": {
        "colab": {
          "base_uri": "https://localhost:8080/"
        },
        "id": "x4N8iyqFa6uH",
        "outputId": "eed324ec-fb6e-4791-8501-427238714163"
      },
      "source": [
        "# To get details: year, make, and model\n",
        "h3_tags = html_soup('h3')\n",
        "\n",
        "for tag in h3_tags:\n",
        "\n",
        "    if tag.attrs=={'class': ['buyer_make']}:\n",
        "        _year=(tag.contents[0].split())[0]\n",
        "        _name=(tag.contents[0].split())[1]\n",
        "        year.append(_year)\n",
        "        make.append(_name)\n",
        "\n",
        "    if tag.attrs=={'class': ['buyer_variant']}:\n",
        "        _model=(tag.contents[0].strip().split())[0]\n",
        "        model.append(_model)\n",
        "print(year)\n",
        "print(make)\n",
        "print(model)"
      ],
      "execution_count": 3,
      "outputs": [
        {
          "output_type": "stream",
          "text": [
            "['2020', '2019', '2019', '2019', '2019', '2013', '2013', '2013', '2014', '2013', '2019', '2018', '2015', '2013', '2010']\n",
            "['Renault', 'Renault', 'Renault', 'Tata', 'Maruti', 'Renault', 'Renault', 'Renault', 'Nissan', 'Renault', 'Tata', 'Hyundai', 'Ford', 'Honda', 'Hyundai']\n",
            "['Kwid', 'Kwid', 'Kwid', 'Tiago', 'S', 'Duster', 'Duster', 'Duster', 'Terrano', 'Duster', 'Tiago', 'Grand', 'Ecosport', 'Brio', 'I20']\n"
          ],
          "name": "stdout"
        }
      ]
    },
    {
      "cell_type": "code",
      "metadata": {
        "colab": {
          "base_uri": "https://localhost:8080/"
        },
        "id": "6XAO97onfjMP",
        "outputId": "3d5e70bf-4dd9-4ae7-ed93-e1f501984aac"
      },
      "source": [
        "# To obtain details: price, location, kilometer, fuel, body type, and owner\n",
        "span_tags = html_soup('span')\n",
        "km_pd_body_owner=[]\n",
        "\n",
        "for tag in span_tags: \n",
        "\n",
        "    if tag.attrs=={'class': ['car_price']}:\n",
        "        if len(tag.contents)==1:\n",
        "            price.append('NaN')\n",
        "        else:\n",
        "            _price=tag.contents\n",
        "            price.append(_price)\n",
        "\n",
        "    if tag.attrs=={'class': ['buyer_locations', 'icon_set', 'stock_location', 'b']}:\n",
        "        location.append(tag.contents[0])\n",
        "\n",
        "    if tag.attrs=={'class': ['overview_name']}:\n",
        "        km_pd_body_owner.append(tag.contents[0].strip())\n",
        "\n",
        "print(price)   "
      ],
      "execution_count": 4,
      "outputs": [
        {
          "output_type": "stream",
          "text": [
            "[[<span class=\"icon_set car_price_icon\"></span>, '5.85 Lakhs'], [<span class=\"icon_set car_price_icon\"></span>, '4.5 Lakhs'], [<span class=\"icon_set car_price_icon\"></span>, '8.6 Lakhs'], [<span class=\"icon_set car_price_icon\"></span>, '5.25 Lakhs'], [<span class=\"icon_set car_price_icon\"></span>, '8.95 Lakhs'], [<span class=\"icon_set car_price_icon\"></span>, '2.45 Lakhs'], [<span class=\"icon_set car_price_icon\"></span>, '3.65 Lakhs'], [<span class=\"icon_set car_price_icon\"></span>, '7 Lakhs'], [<span class=\"icon_set car_price_icon\"></span>, '4.9 Lakhs'], [<span class=\"icon_set car_price_icon\"></span>, '3.65 Lakhs'], [<span class=\"icon_set car_price_icon\"></span>, '3.65 Lakhs'], [<span class=\"icon_set car_price_icon\"></span>, '5.65 Lakhs'], [<span class=\"icon_set car_price_icon\"></span>, '4.5 Lakhs'], [<span class=\"icon_set car_price_icon\"></span>, '3.25 Lakhs'], [<span class=\"icon_set car_price_icon\"></span>, '3.95 Lakhs'], [<span class=\"icon_set car_price_icon\"></span>, '4.25 Lakhs'], [<span class=\"icon_set car_price_icon\"></span>, '4.5 Lakhs'], [<span class=\"icon_set car_price_icon\"></span>, '4.5 Lakhs'], 'NaN', [<span class=\"icon_set car_price_icon\"></span>, '5.25 Lakhs'], [<span class=\"icon_set car_price_icon\"></span>, '6.45 Lakhs'], [<span class=\"icon_set car_price_icon\"></span>, '2.92 Lakhs'], [<span class=\"icon_set car_price_icon\"></span>, '2.55 Lakhs']]\n"
          ],
          "name": "stdout"
        }
      ]
    },
    {
      "cell_type": "code",
      "metadata": {
        "colab": {
          "base_uri": "https://localhost:8080/"
        },
        "id": "q7UMxbe02Yoj",
        "outputId": "985fb2df-1e3d-4afc-d45d-1903db3fee18"
      },
      "source": [
        "# To split cumulative data into kilometer, fuel, body_type, and owner\n",
        "cumulative_km_pd_body_owner=np. reshape(km_pd_body_owner, (len(km_pd_body_owner)//4, 4))\n",
        "\n",
        "kilometer=cumulative_km_pd_body_owner.T[0]\n",
        "fuel=cumulative_km_pd_body_owner.T[1]\n",
        "body_type=cumulative_km_pd_body_owner.T[2]\n",
        "owner=cumulative_km_pd_body_owner.T[3]\n",
        "\n",
        "print(kilometer)\n",
        "print(fuel)\n",
        "print(body_type)\n",
        "print(owner)"
      ],
      "execution_count": 5,
      "outputs": [
        {
          "output_type": "stream",
          "text": [
            "['19,000 Kms' '14,214 Kms' '14,214 Kms' '9,109 Kms' '20,200 Kms'\n",
            " '93,000 Kms' '66,612 Kms' '90,923 Kms' '67,841 Kms' '80,000 Kms'\n",
            " '10,000 Kms' '16,592 Kms' '70,293 Kms' '43,000 Kms' '75,236 Kms']\n",
            "['Petrol' 'Petrol' 'Petrol' 'Petrol' 'Petrol' 'Diesel' 'Diesel' 'Diesel'\n",
            " 'Diesel' 'Diesel' 'Petrol' 'Petrol' 'Petrol' 'Petrol' 'Petrol']\n",
            "['Hatchback' 'Hatchback' 'Hatchback' 'Hatchback' 'Hatchback' 'SUV' 'SUV'\n",
            " 'SUV' 'SUV' 'SUV' 'Hatchback' 'Hatchback' 'SUV' 'Hatchback' 'Hatchback']\n",
            "['1st Owner' '1st Owner' '1st Owner' '1st Owner' '1st Owner' '1st Owner'\n",
            " '1st Owner' '1st Owner' '1st Owner' '1st Owner' '1st Owner' '1st Owner'\n",
            " '1st Owner' '2nd Owner' '1st Owner']\n"
          ],
          "name": "stdout"
        }
      ]
    },
    {
      "cell_type": "code",
      "metadata": {
        "id": "b1bjRQvyvCnC"
      },
      "source": [
        "# To build Data Frame, and save as car_data.xls\n",
        "car_data = pd.DataFrame({\"Year\" : year, \"Make/Name\" : make, \"Model\" : model, \"Location\" : location, \"Mileage/Kilometers\" : kilometer, \"Fuel (Diesel/Petrol)\" : fuel, \"Body Type\" : body_type, \"Owner\": owner})[[\"Year\", \"Make/Name\", \"Model\", \"Location\", \"Mileage/Kilometers\", \"Fuel (Diesel/Petrol)\", \"Body Type\", \"Owner\"]]\n",
        "car_data.drop_duplicates().to_excel('car_data.xls')"
      ],
      "execution_count": 6,
      "outputs": []
    },
    {
      "cell_type": "code",
      "metadata": {
        "colab": {
          "base_uri": "https://localhost:8080/",
          "height": 203
        },
        "id": "YagOYfit0wwy",
        "outputId": "fd48916d-0748-45df-a774-43e24d76b062"
      },
      "source": [
        "car_data.head()"
      ],
      "execution_count": 7,
      "outputs": [
        {
          "output_type": "execute_result",
          "data": {
            "text/html": [
              "<div>\n",
              "<style scoped>\n",
              "    .dataframe tbody tr th:only-of-type {\n",
              "        vertical-align: middle;\n",
              "    }\n",
              "\n",
              "    .dataframe tbody tr th {\n",
              "        vertical-align: top;\n",
              "    }\n",
              "\n",
              "    .dataframe thead th {\n",
              "        text-align: right;\n",
              "    }\n",
              "</style>\n",
              "<table border=\"1\" class=\"dataframe\">\n",
              "  <thead>\n",
              "    <tr style=\"text-align: right;\">\n",
              "      <th></th>\n",
              "      <th>Year</th>\n",
              "      <th>Make/Name</th>\n",
              "      <th>Model</th>\n",
              "      <th>Location</th>\n",
              "      <th>Mileage/Kilometers</th>\n",
              "      <th>Fuel (Diesel/Petrol)</th>\n",
              "      <th>Body Type</th>\n",
              "      <th>Owner</th>\n",
              "    </tr>\n",
              "  </thead>\n",
              "  <tbody>\n",
              "    <tr>\n",
              "      <th>0</th>\n",
              "      <td>2020</td>\n",
              "      <td>Renault</td>\n",
              "      <td>Kwid</td>\n",
              "      <td>Delhi</td>\n",
              "      <td>19,000 Kms</td>\n",
              "      <td>Petrol</td>\n",
              "      <td>Hatchback</td>\n",
              "      <td>1st Owner</td>\n",
              "    </tr>\n",
              "    <tr>\n",
              "      <th>1</th>\n",
              "      <td>2019</td>\n",
              "      <td>Renault</td>\n",
              "      <td>Kwid</td>\n",
              "      <td>Faridabad</td>\n",
              "      <td>14,214 Kms</td>\n",
              "      <td>Petrol</td>\n",
              "      <td>Hatchback</td>\n",
              "      <td>1st Owner</td>\n",
              "    </tr>\n",
              "    <tr>\n",
              "      <th>2</th>\n",
              "      <td>2019</td>\n",
              "      <td>Renault</td>\n",
              "      <td>Kwid</td>\n",
              "      <td>Faridabad</td>\n",
              "      <td>14,214 Kms</td>\n",
              "      <td>Petrol</td>\n",
              "      <td>Hatchback</td>\n",
              "      <td>1st Owner</td>\n",
              "    </tr>\n",
              "    <tr>\n",
              "      <th>3</th>\n",
              "      <td>2019</td>\n",
              "      <td>Tata</td>\n",
              "      <td>Tiago</td>\n",
              "      <td>Faridabad</td>\n",
              "      <td>9,109 Kms</td>\n",
              "      <td>Petrol</td>\n",
              "      <td>Hatchback</td>\n",
              "      <td>1st Owner</td>\n",
              "    </tr>\n",
              "    <tr>\n",
              "      <th>4</th>\n",
              "      <td>2019</td>\n",
              "      <td>Maruti</td>\n",
              "      <td>S</td>\n",
              "      <td>Ghaziabad</td>\n",
              "      <td>20,200 Kms</td>\n",
              "      <td>Petrol</td>\n",
              "      <td>Hatchback</td>\n",
              "      <td>1st Owner</td>\n",
              "    </tr>\n",
              "  </tbody>\n",
              "</table>\n",
              "</div>"
            ],
            "text/plain": [
              "   Year Make/Name  Model  ... Fuel (Diesel/Petrol)  Body Type      Owner\n",
              "0  2020   Renault   Kwid  ...               Petrol  Hatchback  1st Owner\n",
              "1  2019   Renault   Kwid  ...               Petrol  Hatchback  1st Owner\n",
              "2  2019   Renault   Kwid  ...               Petrol  Hatchback  1st Owner\n",
              "3  2019      Tata  Tiago  ...               Petrol  Hatchback  1st Owner\n",
              "4  2019    Maruti      S  ...               Petrol  Hatchback  1st Owner\n",
              "\n",
              "[5 rows x 8 columns]"
            ]
          },
          "metadata": {
            "tags": []
          },
          "execution_count": 7
        }
      ]
    }
  ]
}